{
 "cells": [
  {
   "cell_type": "code",
   "execution_count": 10,
   "id": "0494d42f",
   "metadata": {},
   "outputs": [
    {
     "name": "stdout",
     "output_type": "stream",
     "text": [
      "Collecting https://test.pypi.org/simple/\n",
      "  Using cached https://test.pypi.org/simple/ (10.2 MB)\n",
      "\u001b[31m  ERROR: Cannot unpack file /private/var/folders/qw/94xrmmpx6_z_qjc0blk3ctw40000gn/T/pip-unpack-ibmr_b_5/simple.html (downloaded from /private/var/folders/qw/94xrmmpx6_z_qjc0blk3ctw40000gn/T/pip-req-build-uxdyq6f5, content-type: text/html); cannot detect archive format\u001b[0m\u001b[31m\n",
      "\u001b[0m\u001b[31mERROR: Cannot determine archive format of /private/var/folders/qw/94xrmmpx6_z_qjc0blk3ctw40000gn/T/pip-req-build-uxdyq6f5\u001b[0m\u001b[31m\n",
      "\u001b[0m\n",
      "\u001b[1m[\u001b[0m\u001b[34;49mnotice\u001b[0m\u001b[1;39;49m]\u001b[0m\u001b[39;49m A new release of pip is available: \u001b[0m\u001b[31;49m23.3\u001b[0m\u001b[39;49m -> \u001b[0m\u001b[32;49m24.0\u001b[0m\n",
      "\u001b[1m[\u001b[0m\u001b[34;49mnotice\u001b[0m\u001b[1;39;49m]\u001b[0m\u001b[39;49m To update, run: \u001b[0m\u001b[32;49mpython -m pip install --upgrade pip\u001b[0m\n"
     ]
    }
   ],
   "source": [
    "!pip install -U https://test.pypi.org/simple/ rbdash"
   ]
  },
  {
   "cell_type": "code",
   "execution_count": 1,
   "id": "5b567aff",
   "metadata": {},
   "outputs": [],
   "source": [
    "from rbdash import RbDash\n"
   ]
  },
  {
   "cell_type": "code",
   "execution_count": 5,
   "id": "245bf593",
   "metadata": {},
   "outputs": [
    {
     "name": "stdout",
     "output_type": "stream",
     "text": [
      "test\n",
      "TEST\n",
      "There Was A Man!\n",
      "generate-a-slug-for-my-post\n"
     ]
    }
   ],
   "source": [
    "print(RbDash.lower(\"TEST\"))\n",
    "print(RbDash.upper(\"test\"))\n",
    "print(RbDash.title(\"there WAS a MAN!\"))\n",
    "print(RbDash.kebab(\"Generate a Slug for my Post\"))"
   ]
  },
  {
   "cell_type": "code",
   "execution_count": null,
   "id": "cf9e8cf0",
   "metadata": {},
   "outputs": [],
   "source": []
  }
 ],
 "metadata": {
  "kernelspec": {
   "display_name": "Python 3 (ipykernel)",
   "language": "python",
   "name": "python3"
  },
  "language_info": {
   "codemirror_mode": {
    "name": "ipython",
    "version": 3
   },
   "file_extension": ".py",
   "mimetype": "text/x-python",
   "name": "python",
   "nbconvert_exporter": "python",
   "pygments_lexer": "ipython3",
   "version": "3.11.4"
  },
  "toc": {
   "base_numbering": 1,
   "nav_menu": {},
   "number_sections": true,
   "sideBar": true,
   "skip_h1_title": false,
   "title_cell": "Table of Contents",
   "title_sidebar": "Contents",
   "toc_cell": false,
   "toc_position": {},
   "toc_section_display": true,
   "toc_window_display": false
  }
 },
 "nbformat": 4,
 "nbformat_minor": 5
}
